{
    "nbformat_minor": 1, 
    "cells": [
        {
            "source": "# Buffalo Recycles", 
            "cell_type": "markdown", 
            "metadata": {
                "collapsed": true
            }
        }, 
        {
            "source": "## Introduction", 
            "cell_type": "markdown", 
            "metadata": {}
        }, 
        {
            "source": "Buffalo is a one of the biggest cities in New York, a city that lately are putting a lot of attention in the recycling process, and they have two important things clear. The first one is that the planet, the environment and life in general needs of all those efforts, little ones or big ones like this one, in order to fight all the climate and wastes issues and the second thing is they have clear that data is a great ally in this fight, that's is why is tracking the recycling behaviors of the different neighborhoods on the city.", 
            "cell_type": "markdown", 
            "metadata": {}
        }, 
        {
            "source": "<img height=\"600\" width=\"600\" src=https://1018045.v1.pressablecdn.com/wp-content/uploads/2019/05/COB-FoodScraps-Flyer.jpg>", 
            "cell_type": "markdown", 
            "metadata": {}
        }, 
        {
            "source": "Images like the one above are part of the campaign __34 and More__ which is a Buffalo public initiative to increase the recycling diversion rate that is, by the time the report came out, 29.3% and increase it up to 34% that is the national average and even more. They know that recycling is not that hard and benefits everyone. They give all kinds of guides to decide what goes in the green tote, what in the blue and what to drop off, also an explaining of the city's laws for refusing and recycling collection is provided. Here is a report of Buffalo of recycling on 2018: <a href=\"https://buffalorecycles.org/wp-content/uploads/2019/04/2018-Annual-Recycling-Report.pdf\">2018 Annual Recycling Report</a>. ", 
            "cell_type": "markdown", 
            "metadata": {}
        }, 
        {
            "source": "In order to help those initiatives the data that was recollected in recent years is used to shape the phenomenon of recycle in the Buffalo city through every neighborhood in the city, that is why dashboard like the one presented on <a href=\"https://reports.zerocycle.co/buffalo/index.html\">Neighborhoods</a>. In the dashboard we have the phenomenon shaped by the diversion rate of recycling, what neighborhoods have the highest and lowest rate and a map of the distribution also the plot of a time series can be seen on the dashboard. This is very helpful to understand how is behaving the phenomenon and lead us to the right strategies to enhance the initiative which I repeat is very important and useful for everyone.", 
            "cell_type": "markdown", 
            "metadata": {}
        }, 
        {
            "source": "Reports have been done by showing in timelines and pie charts the improving trends in the tonnage collected through curbside recycling by each year and by each month to find patterns or distributions, reports like the done in <a href=\"https://data.buffalony.gov/stories/s/CitiStat-Buffalo-Buffalo-Recycles/5uet-j3fx\">City of Buffalo Recycling</a>, which are a very good start to understand the problem and to see what is already done and to think in other approaches to give other useful information to help the initiative to be aware of other elements that might be important to take in account to achieve all the goals like increase the recycle rate.", 
            "cell_type": "markdown", 
            "metadata": {}
        }, 
        {
            "source": "## Business Problem", 
            "cell_type": "markdown", 
            "metadata": {}
        }, 
        {
            "source": "By using geospatial data and other elements related with the recycle phenomenon in Buffalo is possible to identify which are the zones who generate more and less recycling rate as we see before, but what places are on those zones? Is it possible to identify what kind of places are the ones who doesn't recycle? Are there a category of venues who make more difficult to recycle?.", 
            "cell_type": "markdown", 
            "metadata": {}
        }, 
        {
            "source": "The above is important because that way we can identify what are that the places which are not being that helpful in achieving the Buffalo environmental agenda and then address strategies to make them be more conscious of the benefits of recycling. Also for the places or zones that recycle the most could be possible to address a reward initiative like on taxes or something related. For this project the main objective is to find all the insights mentioned on this last section in order to help the great initiative that the Buffalo City has.", 
            "cell_type": "markdown", 
            "metadata": {}
        }
    ], 
    "metadata": {
        "kernelspec": {
            "display_name": "Python 3.6", 
            "name": "python3", 
            "language": "python"
        }, 
        "language_info": {
            "mimetype": "text/x-python", 
            "nbconvert_exporter": "python", 
            "version": "3.6.8", 
            "name": "python", 
            "file_extension": ".py", 
            "pygments_lexer": "ipython3", 
            "codemirror_mode": {
                "version": 3, 
                "name": "ipython"
            }
        }
    }, 
    "nbformat": 4
}