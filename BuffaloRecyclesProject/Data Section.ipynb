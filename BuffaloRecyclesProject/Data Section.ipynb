{
    "nbformat_minor": 1, 
    "cells": [
        {
            "source": "## Buffalo Recycles - Data section", 
            "cell_type": "markdown", 
            "metadata": {
                "collapsed": true
            }
        }, 
        {
            "source": "The initial dataset was developed by Zerocycle for the City of Buffalo to analyze curbside recycling rates by neighborhood. This can be found on the following data.word page: <a href=\"https://data.world/buffalony/ug79-xatx\">Neighborhood Curbside Recycling Rates</a>. The last update done was on **December 14, 2018**, so it's a very recently dataset which is important in order to the further analysis be meaningful, the updates are done by the Department of Public Works on the Streets & Sanitation division, so we asura that the source is reliable. ", 
            "cell_type": "markdown", 
            "metadata": {}
        }, 
        {
            "source": "On the dataset we have **624** rows and **5** columns in where each row is each row is a neighborhood's curbside recycling/waste collection statistic. The columns are:\n\n1. NEIGHBORHOOD (String)\n2. DATE (Date&Time)\n3. CURBSIDE RECYCLING (IN POUNDS) (Float)\n4. CURBSIDE GARBAGE (IN POUNDS) (Float)\n5. CURBSIDE RECYCLING RATE (Integer)\n", 
            "cell_type": "markdown", 
            "metadata": {}
        }, 
        {
            "source": "Let's show that:", 
            "cell_type": "markdown", 
            "metadata": {}
        }, 
        {
            "execution_count": 1, 
            "cell_type": "code", 
            "metadata": {}, 
            "outputs": [], 
            "source": "import pandas as pd"
        }, 
        {
            "execution_count": 2, 
            "cell_type": "code", 
            "metadata": {}, 
            "outputs": [
                {
                    "execution_count": 2, 
                    "metadata": {}, 
                    "data": {
                        "text/html": "<div>\n<style scoped>\n    .dataframe tbody tr th:only-of-type {\n        vertical-align: middle;\n    }\n\n    .dataframe tbody tr th {\n        vertical-align: top;\n    }\n\n    .dataframe thead th {\n        text-align: right;\n    }\n</style>\n<table border=\"1\" class=\"dataframe\">\n  <thead>\n    <tr style=\"text-align: right;\">\n      <th></th>\n      <th>NEIGHBORHOOD</th>\n      <th>DATE</th>\n      <th>CURBSIDE RECYCLING (IN POUNDS)</th>\n      <th>CURBSIDE GARBAGE (IN POUNDS)</th>\n      <th>CURBSIDE RECYCLING RATE</th>\n    </tr>\n  </thead>\n  <tbody>\n    <tr>\n      <th>0</th>\n      <td>ABBOTT McKINLEY</td>\n      <td>07/31/2018</td>\n      <td>49.18</td>\n      <td>256.09</td>\n      <td>16</td>\n    </tr>\n    <tr>\n      <th>1</th>\n      <td>ABBOTT McKINLEY</td>\n      <td>03/31/2018</td>\n      <td>35.12</td>\n      <td>182.03</td>\n      <td>16</td>\n    </tr>\n    <tr>\n      <th>2</th>\n      <td>ABBOTT McKINLEY</td>\n      <td>10/31/2018</td>\n      <td>46.98</td>\n      <td>243.91</td>\n      <td>16</td>\n    </tr>\n    <tr>\n      <th>3</th>\n      <td>ABBOTT McKINLEY</td>\n      <td>11/30/2018</td>\n      <td>42.04</td>\n      <td>216.08</td>\n      <td>16</td>\n    </tr>\n    <tr>\n      <th>4</th>\n      <td>ABBOTT McKINLEY</td>\n      <td>05/31/2018</td>\n      <td>43.48</td>\n      <td>232.49</td>\n      <td>16</td>\n    </tr>\n  </tbody>\n</table>\n</div>", 
                        "text/plain": "      NEIGHBORHOOD        DATE  CURBSIDE RECYCLING (IN POUNDS)  \\\n0  ABBOTT McKINLEY  07/31/2018                           49.18   \n1  ABBOTT McKINLEY  03/31/2018                           35.12   \n2  ABBOTT McKINLEY  10/31/2018                           46.98   \n3  ABBOTT McKINLEY  11/30/2018                           42.04   \n4  ABBOTT McKINLEY  05/31/2018                           43.48   \n\n   CURBSIDE GARBAGE (IN POUNDS)  CURBSIDE RECYCLING RATE  \n0                        256.09                       16  \n1                        182.03                       16  \n2                        243.91                       16  \n3                        216.08                       16  \n4                        232.49                       16  "
                    }, 
                    "output_type": "execute_result"
                }
            ], 
            "source": "buff_df = pd.read_csv('https://query.data.world/s/cvtfgya4cauuuwosm32v75zoffl3dk')\nbuff_df.head()"
        }, 
        {
            "execution_count": 3, 
            "cell_type": "code", 
            "metadata": {}, 
            "outputs": [
                {
                    "execution_count": 3, 
                    "metadata": {}, 
                    "data": {
                        "text/plain": "(624, 5)"
                    }, 
                    "output_type": "execute_result"
                }
            ], 
            "source": "buff_df.shape"
        }, 
        {
            "execution_count": 4, 
            "cell_type": "code", 
            "metadata": {}, 
            "outputs": [
                {
                    "execution_count": 4, 
                    "metadata": {}, 
                    "data": {
                        "text/plain": "Index(['NEIGHBORHOOD', 'DATE', 'CURBSIDE RECYCLING (IN POUNDS)',\n       'CURBSIDE GARBAGE (IN POUNDS)', 'CURBSIDE RECYCLING RATE'],\n      dtype='object')"
                    }, 
                    "output_type": "execute_result"
                }
            ], 
            "source": "buff_df.columns"
        }, 
        {
            "execution_count": 5, 
            "cell_type": "code", 
            "metadata": {}, 
            "outputs": [
                {
                    "execution_count": 5, 
                    "metadata": {}, 
                    "data": {
                        "text/plain": "NEIGHBORHOOD                       object\nDATE                               object\nCURBSIDE RECYCLING (IN POUNDS)    float64\nCURBSIDE GARBAGE (IN POUNDS)      float64\nCURBSIDE RECYCLING RATE             int64\ndtype: object"
                    }, 
                    "output_type": "execute_result"
                }
            ], 
            "source": "buff_df.dtypes"
        }, 
        {
            "execution_count": 6, 
            "cell_type": "code", 
            "metadata": {}, 
            "outputs": [
                {
                    "execution_count": 6, 
                    "metadata": {}, 
                    "data": {
                        "text/plain": "array(['ABBOTT McKINLEY', 'ALBRIGHT', 'ALLEN', 'BABCOCK', 'BLACK ROCK',\n       'BROADWAY FILLMORE', 'BRYANT', 'CAZENOVIA PARK', 'COLD SPRING',\n       'COLUMBUS', 'DELAWARE PARK', 'DELAWARE W. FERRY', 'EMERSON',\n       'EMSLIE', 'FIRST WARD', 'FOREST', 'FRONT PARK', 'GENESEE MOSELLE',\n       'GRANT FERRY', 'GRIDER', 'HAMLIN PARK', 'JOHNSON', 'KAISERTOWN',\n       'KENFIELD', 'KENSINGTON', 'KINGSLEY', 'LAKEVIEW', 'LaSALLE',\n       'LEROY', 'LOVEJOY', 'MASTEN PARK', 'MEDICAL PARK', 'MILITARY',\n       'M.L.K. PARK', 'NORTH DELAWARE', 'NORTH PARK', 'PARK MEADOW',\n       'PARKSIDE', 'PERRY', 'RIVERSIDE PARK', 'SCHILLER PARK', 'SENECA',\n       'SOUTH ABBOTT', 'SOUTH ELLICOTT', 'SOUTH PARK', 'STARIN CENTRAL',\n       'STATE HOSPITAL', 'TIFFT', 'TRIANGLE', 'UNIVERSITY', 'VALLEY',\n       'WILLERT PARK'], dtype=object)"
                    }, 
                    "output_type": "execute_result"
                }
            ], 
            "source": "buff_df['NEIGHBORHOOD'].unique()"
        }, 
        {
            "source": "The only thing that differs from the assumptions we do in first place, is that the 'NEIGHBORHOOD' and the 'DATE' columns are object types.", 
            "cell_type": "markdown", 
            "metadata": {}
        }, 
        {
            "source": "For now tha date column is not that relevant. Now we can group the data by neighborhood and normilize the new curbside values, so let's put the dataset in the way we want:", 
            "cell_type": "markdown", 
            "metadata": {}
        }, 
        {
            "execution_count": 7, 
            "cell_type": "code", 
            "metadata": {}, 
            "outputs": [
                {
                    "execution_count": 7, 
                    "metadata": {}, 
                    "data": {
                        "text/html": "<div>\n<style scoped>\n    .dataframe tbody tr th:only-of-type {\n        vertical-align: middle;\n    }\n\n    .dataframe tbody tr th {\n        vertical-align: top;\n    }\n\n    .dataframe thead th {\n        text-align: right;\n    }\n</style>\n<table border=\"1\" class=\"dataframe\">\n  <thead>\n    <tr style=\"text-align: right;\">\n      <th></th>\n      <th>NEIGHBORHOOD</th>\n      <th>CURBSIDE RECYCLING (IN POUNDS)</th>\n      <th>CURBSIDE GARBAGE (IN POUNDS)</th>\n      <th>CURBSIDE RECYCLING RATE</th>\n    </tr>\n  </thead>\n  <tbody>\n    <tr>\n      <th>0</th>\n      <td>ABBOTT McKINLEY</td>\n      <td>49.18</td>\n      <td>256.09</td>\n      <td>16</td>\n    </tr>\n    <tr>\n      <th>1</th>\n      <td>ABBOTT McKINLEY</td>\n      <td>35.12</td>\n      <td>182.03</td>\n      <td>16</td>\n    </tr>\n    <tr>\n      <th>2</th>\n      <td>ABBOTT McKINLEY</td>\n      <td>46.98</td>\n      <td>243.91</td>\n      <td>16</td>\n    </tr>\n    <tr>\n      <th>3</th>\n      <td>ABBOTT McKINLEY</td>\n      <td>42.04</td>\n      <td>216.08</td>\n      <td>16</td>\n    </tr>\n    <tr>\n      <th>4</th>\n      <td>ABBOTT McKINLEY</td>\n      <td>43.48</td>\n      <td>232.49</td>\n      <td>16</td>\n    </tr>\n  </tbody>\n</table>\n</div>", 
                        "text/plain": "      NEIGHBORHOOD  CURBSIDE RECYCLING (IN POUNDS)  \\\n0  ABBOTT McKINLEY                           49.18   \n1  ABBOTT McKINLEY                           35.12   \n2  ABBOTT McKINLEY                           46.98   \n3  ABBOTT McKINLEY                           42.04   \n4  ABBOTT McKINLEY                           43.48   \n\n   CURBSIDE GARBAGE (IN POUNDS)  CURBSIDE RECYCLING RATE  \n0                        256.09                       16  \n1                        182.03                       16  \n2                        243.91                       16  \n3                        216.08                       16  \n4                        232.49                       16  "
                    }, 
                    "output_type": "execute_result"
                }
            ], 
            "source": "buff_df.drop(columns='DATE', inplace=True)\nbuff_df.head()"
        }, 
        {
            "execution_count": 8, 
            "cell_type": "code", 
            "metadata": {}, 
            "outputs": [
                {
                    "execution_count": 8, 
                    "metadata": {}, 
                    "data": {
                        "text/html": "<div>\n<style scoped>\n    .dataframe tbody tr th:only-of-type {\n        vertical-align: middle;\n    }\n\n    .dataframe tbody tr th {\n        vertical-align: top;\n    }\n\n    .dataframe thead th {\n        text-align: right;\n    }\n</style>\n<table border=\"1\" class=\"dataframe\">\n  <thead>\n    <tr style=\"text-align: right;\">\n      <th></th>\n      <th>CURBSIDE RECYCLING (IN POUNDS)</th>\n      <th>CURBSIDE GARBAGE (IN POUNDS)</th>\n      <th>CURBSIDE RECYCLING RATE</th>\n    </tr>\n    <tr>\n      <th>NEIGHBORHOOD</th>\n      <th></th>\n      <th></th>\n      <th></th>\n    </tr>\n  </thead>\n  <tbody>\n    <tr>\n      <th>ABBOTT McKINLEY</th>\n      <td>42.654167</td>\n      <td>215.357500</td>\n      <td>16.666667</td>\n    </tr>\n    <tr>\n      <th>ALBRIGHT</th>\n      <td>23.645000</td>\n      <td>88.204167</td>\n      <td>21.500000</td>\n    </tr>\n    <tr>\n      <th>ALLEN</th>\n      <td>22.292500</td>\n      <td>95.519167</td>\n      <td>18.833333</td>\n    </tr>\n    <tr>\n      <th>BABCOCK</th>\n      <td>19.578333</td>\n      <td>131.258333</td>\n      <td>13.000000</td>\n    </tr>\n    <tr>\n      <th>BLACK ROCK</th>\n      <td>34.943333</td>\n      <td>215.675833</td>\n      <td>13.833333</td>\n    </tr>\n    <tr>\n      <th>BROADWAY FILLMORE</th>\n      <td>26.028333</td>\n      <td>207.462500</td>\n      <td>11.250000</td>\n    </tr>\n    <tr>\n      <th>BRYANT</th>\n      <td>28.580000</td>\n      <td>139.280833</td>\n      <td>17.083333</td>\n    </tr>\n    <tr>\n      <th>CAZENOVIA PARK</th>\n      <td>30.052500</td>\n      <td>153.407500</td>\n      <td>16.500000</td>\n    </tr>\n    <tr>\n      <th>COLD SPRING</th>\n      <td>5.445000</td>\n      <td>37.299167</td>\n      <td>13.000000</td>\n    </tr>\n    <tr>\n      <th>COLUMBUS</th>\n      <td>5.911667</td>\n      <td>32.062500</td>\n      <td>15.750000</td>\n    </tr>\n  </tbody>\n</table>\n</div>", 
                        "text/plain": "                   CURBSIDE RECYCLING (IN POUNDS)  \\\nNEIGHBORHOOD                                        \nABBOTT McKINLEY                         42.654167   \nALBRIGHT                                23.645000   \nALLEN                                   22.292500   \nBABCOCK                                 19.578333   \nBLACK ROCK                              34.943333   \nBROADWAY FILLMORE                       26.028333   \nBRYANT                                  28.580000   \nCAZENOVIA PARK                          30.052500   \nCOLD SPRING                              5.445000   \nCOLUMBUS                                 5.911667   \n\n                   CURBSIDE GARBAGE (IN POUNDS)  CURBSIDE RECYCLING RATE  \nNEIGHBORHOOD                                                              \nABBOTT McKINLEY                      215.357500                16.666667  \nALBRIGHT                              88.204167                21.500000  \nALLEN                                 95.519167                18.833333  \nBABCOCK                              131.258333                13.000000  \nBLACK ROCK                           215.675833                13.833333  \nBROADWAY FILLMORE                    207.462500                11.250000  \nBRYANT                               139.280833                17.083333  \nCAZENOVIA PARK                       153.407500                16.500000  \nCOLD SPRING                           37.299167                13.000000  \nCOLUMBUS                              32.062500                15.750000  "
                    }, 
                    "output_type": "execute_result"
                }
            ], 
            "source": "buffG_df = buff_df.groupby(['NEIGHBORHOOD']).mean()\nbuffG_df.head(10)"
        }, 
        {
            "execution_count": 9, 
            "cell_type": "code", 
            "metadata": {}, 
            "outputs": [
                {
                    "execution_count": 9, 
                    "metadata": {}, 
                    "data": {
                        "text/html": "<div>\n<style scoped>\n    .dataframe tbody tr th:only-of-type {\n        vertical-align: middle;\n    }\n\n    .dataframe tbody tr th {\n        vertical-align: top;\n    }\n\n    .dataframe thead th {\n        text-align: right;\n    }\n</style>\n<table border=\"1\" class=\"dataframe\">\n  <thead>\n    <tr style=\"text-align: right;\">\n      <th></th>\n      <th>NEIGHBORHOOD</th>\n      <th>CURBSIDE RECYCLING (IN POUNDS)</th>\n      <th>CURBSIDE GARBAGE (IN POUNDS)</th>\n      <th>CURBSIDE RECYCLING RATE</th>\n    </tr>\n  </thead>\n  <tbody>\n    <tr>\n      <th>0</th>\n      <td>ABBOTT McKINLEY</td>\n      <td>42.654167</td>\n      <td>215.357500</td>\n      <td>16.666667</td>\n    </tr>\n    <tr>\n      <th>1</th>\n      <td>ALBRIGHT</td>\n      <td>23.645000</td>\n      <td>88.204167</td>\n      <td>21.500000</td>\n    </tr>\n    <tr>\n      <th>2</th>\n      <td>ALLEN</td>\n      <td>22.292500</td>\n      <td>95.519167</td>\n      <td>18.833333</td>\n    </tr>\n    <tr>\n      <th>3</th>\n      <td>BABCOCK</td>\n      <td>19.578333</td>\n      <td>131.258333</td>\n      <td>13.000000</td>\n    </tr>\n    <tr>\n      <th>4</th>\n      <td>BLACK ROCK</td>\n      <td>34.943333</td>\n      <td>215.675833</td>\n      <td>13.833333</td>\n    </tr>\n  </tbody>\n</table>\n</div>", 
                        "text/plain": "      NEIGHBORHOOD  CURBSIDE RECYCLING (IN POUNDS)  \\\n0  ABBOTT McKINLEY                       42.654167   \n1         ALBRIGHT                       23.645000   \n2            ALLEN                       22.292500   \n3          BABCOCK                       19.578333   \n4       BLACK ROCK                       34.943333   \n\n   CURBSIDE GARBAGE (IN POUNDS)  CURBSIDE RECYCLING RATE  \n0                    215.357500                16.666667  \n1                     88.204167                21.500000  \n2                     95.519167                18.833333  \n3                    131.258333                13.000000  \n4                    215.675833                13.833333  "
                    }, 
                    "output_type": "execute_result"
                }
            ], 
            "source": "buffG_df.reset_index(inplace=True)\nbuffG_df.head()"
        }, 
        {
            "execution_count": 10, 
            "cell_type": "code", 
            "metadata": {}, 
            "outputs": [
                {
                    "execution_count": 10, 
                    "metadata": {}, 
                    "data": {
                        "text/plain": "(52, 4)"
                    }, 
                    "output_type": "execute_result"
                }
            ], 
            "source": "buffG_df.shape"
        }, 
        {
            "source": "Before using the foursquare API is mandarory to get the latitude and longuitude coordinates by using a **geolocation** library. So let's do that.", 
            "cell_type": "markdown", 
            "metadata": {}
        }, 
        {
            "execution_count": 11, 
            "cell_type": "code", 
            "metadata": {}, 
            "outputs": [
                {
                    "output_type": "stream", 
                    "name": "stdout", 
                    "text": "Solving environment: done\n\n## Package Plan ##\n\n  environment location: /opt/conda/envs/Python36\n\n  added / updated specs: \n    - geopy\n\n\nThe following packages will be downloaded:\n\n    package                    |            build\n    ---------------------------|-----------------\n    geographiclib-1.49         |             py_0          32 KB  conda-forge\n    certifi-2019.6.16          |           py36_1         149 KB  conda-forge\n    ca-certificates-2019.6.16  |       hecc5488_0         145 KB  conda-forge\n    openssl-1.1.1c             |       h516909a_0         2.1 MB  conda-forge\n    geopy-1.20.0               |             py_0          57 KB  conda-forge\n    ------------------------------------------------------------\n                                           Total:         2.5 MB\n\nThe following NEW packages will be INSTALLED:\n\n    geographiclib:   1.49-py_0         conda-forge\n    geopy:           1.20.0-py_0       conda-forge\n\nThe following packages will be UPDATED:\n\n    ca-certificates: 2019.5.15-1                   --> 2019.6.16-hecc5488_0 conda-forge\n    certifi:         2019.6.16-py36_1              --> 2019.6.16-py36_1     conda-forge\n\nThe following packages will be DOWNGRADED:\n\n    openssl:         1.1.1c-h7b6447c_1             --> 1.1.1c-h516909a_0    conda-forge\n\n\nDownloading and Extracting Packages\ngeographiclib-1.49   | 32 KB     | ##################################### | 100% \ncertifi-2019.6.16    | 149 KB    | ##################################### | 100% \nca-certificates-2019 | 145 KB    | ##################################### | 100% \nopenssl-1.1.1c       | 2.1 MB    | ##################################### | 100% \ngeopy-1.20.0         | 57 KB     | ##################################### | 100% \nPreparing transaction: done\nVerifying transaction: done\nExecuting transaction: done\n"
                }
            ], 
            "source": "!conda install -c conda-forge geopy --yes \nfrom geopy.geocoders import Nominatim"
        }, 
        {
            "source": "Gettting the coordinats of buffalo to have a better idea of what we are looking for:", 
            "cell_type": "markdown", 
            "metadata": {}
        }, 
        {
            "execution_count": 12, 
            "cell_type": "code", 
            "metadata": {}, 
            "outputs": [
                {
                    "output_type": "stream", 
                    "name": "stdout", 
                    "text": "The geograpical coordinate of Buffalo are 42.8867166, -78.8783922.\n"
                }
            ], 
            "source": "address = 'Buffalo, NY'\n\ngeolocator = Nominatim(user_agent=\"ny_explorer\")\nlocation = geolocator.geocode(address)\nlatitude = location.latitude\nlongitude = location.longitude\nprint('The geograpical coordinate of Buffalo are {}, {}.'.format(latitude, longitude))"
        }, 
        {
            "execution_count": 13, 
            "cell_type": "code", 
            "metadata": {}, 
            "outputs": [], 
            "source": "buffG_df['Latitude']=\"\"\nbuffG_df['Longitude']=\"\""
        }, 
        {
            "source": "There are some neighborhoods that the geopy library doesn't recognize. By using a try the ones that are recognized are going to be filled and after that the ones who don't are going to be manually filled.", 
            "cell_type": "markdown", 
            "metadata": {}
        }, 
        {
            "execution_count": 15, 
            "cell_type": "code", 
            "metadata": {}, 
            "outputs": [], 
            "source": "for ind, val in buffG_df['NEIGHBORHOOD'].items():\n    try:\n        address = val+',Buffalo, NY'\n        geolocator = Nominatim(user_agent=\"ny_explorer\")\n        location = geolocator.geocode(address)\n        latitude = location.latitude\n        longitude = location.longitude\n        buffG_df['Latitude'][ind] = latitude\n        buffG_df['Longitude'][ind]= longitude\n    except Exception:\n        pass"
        }, 
        {
            "execution_count": 16, 
            "cell_type": "code", 
            "metadata": {}, 
            "outputs": [
                {
                    "execution_count": 16, 
                    "metadata": {}, 
                    "data": {
                        "text/html": "<div>\n<style scoped>\n    .dataframe tbody tr th:only-of-type {\n        vertical-align: middle;\n    }\n\n    .dataframe tbody tr th {\n        vertical-align: top;\n    }\n\n    .dataframe thead th {\n        text-align: right;\n    }\n</style>\n<table border=\"1\" class=\"dataframe\">\n  <thead>\n    <tr style=\"text-align: right;\">\n      <th></th>\n      <th>NEIGHBORHOOD</th>\n      <th>CURBSIDE RECYCLING (IN POUNDS)</th>\n      <th>CURBSIDE GARBAGE (IN POUNDS)</th>\n      <th>CURBSIDE RECYCLING RATE</th>\n      <th>Latitude</th>\n      <th>Longitude</th>\n    </tr>\n  </thead>\n  <tbody>\n    <tr>\n      <th>0</th>\n      <td>ABBOTT McKINLEY</td>\n      <td>42.654167</td>\n      <td>215.357500</td>\n      <td>16.666667</td>\n      <td></td>\n      <td></td>\n    </tr>\n    <tr>\n      <th>1</th>\n      <td>ALBRIGHT</td>\n      <td>23.645000</td>\n      <td>88.204167</td>\n      <td>21.500000</td>\n      <td>42.932</td>\n      <td>-78.8756</td>\n    </tr>\n    <tr>\n      <th>2</th>\n      <td>ALLEN</td>\n      <td>22.292500</td>\n      <td>95.519167</td>\n      <td>18.833333</td>\n      <td>42.8994</td>\n      <td>-78.8699</td>\n    </tr>\n    <tr>\n      <th>3</th>\n      <td>BABCOCK</td>\n      <td>19.578333</td>\n      <td>131.258333</td>\n      <td>13.000000</td>\n      <td>42.8736</td>\n      <td>-78.8321</td>\n    </tr>\n    <tr>\n      <th>4</th>\n      <td>BLACK ROCK</td>\n      <td>34.943333</td>\n      <td>215.675833</td>\n      <td>13.833333</td>\n      <td>42.9326</td>\n      <td>-78.9002</td>\n    </tr>\n  </tbody>\n</table>\n</div>", 
                        "text/plain": "      NEIGHBORHOOD  CURBSIDE RECYCLING (IN POUNDS)  \\\n0  ABBOTT McKINLEY                       42.654167   \n1         ALBRIGHT                       23.645000   \n2            ALLEN                       22.292500   \n3          BABCOCK                       19.578333   \n4       BLACK ROCK                       34.943333   \n\n   CURBSIDE GARBAGE (IN POUNDS)  CURBSIDE RECYCLING RATE Latitude Longitude  \n0                    215.357500                16.666667                     \n1                     88.204167                21.500000   42.932  -78.8756  \n2                     95.519167                18.833333  42.8994  -78.8699  \n3                    131.258333                13.000000  42.8736  -78.8321  \n4                    215.675833                13.833333  42.9326  -78.9002  "
                    }, 
                    "output_type": "execute_result"
                }
            ], 
            "source": "buffG_df.head()"
        }, 
        {
            "source": "Retriving the not recognized neighborhoods: ", 
            "cell_type": "markdown", 
            "metadata": {}
        }, 
        {
            "execution_count": 17, 
            "cell_type": "code", 
            "metadata": {}, 
            "outputs": [
                {
                    "output_type": "stream", 
                    "name": "stdout", 
                    "text": "ABBOTT McKINLEY 0\nBROADWAY FILLMORE 5\nCOLD SPRING 8\nDELAWARE W. FERRY 11\nGENESEE MOSELLE 17\nGRANT FERRY 18\nM.L.K. PARK 30\nPARK MEADOW 36\n"
                }
            ], 
            "source": "for ind,value in buffG_df['Latitude'].items():\n    if value==\"\":\n        print(buffG_df['NEIGHBORHOOD'][ind], ind)"
        }, 
        {
            "source": "By searching the coordinates from those neighborhoods we get the following:\n1. ABBOTT McKINLEY : 42.847, -78.824\n2. BROADWAY FILLMORE : 42.89, -78.83\n3. COLD SPRING : 42.9161, 78.8575\n4. DELAWARE W. FERRY : Not found\n5. GENESEE MOSELLE : 42.91 , -78.82\n6. GRANT FERRY : 42.92, -78.89\n7. M.L.K. PARK : Not found\n8. PARK MEADOW : 42.94, -78.87\n\nLet's add those to the DataFrame. For the neighborhoods that couldn't be possible to get the coordinates they are going to be deleted", 
            "cell_type": "markdown", 
            "metadata": {}
        }, 
        {
            "execution_count": 14, 
            "cell_type": "code", 
            "metadata": {}, 
            "outputs": [], 
            "source": "pd.options.mode.chained_assignment = None"
        }, 
        {
            "execution_count": 24, 
            "cell_type": "code", 
            "metadata": {}, 
            "outputs": [], 
            "source": "# For ABBOTT McKINLEY \nbuffG_df['Latitude'][0]=42.847;buffG_df['Longitude'][0]=-78.824\n# For BROADWAY FILLMORE\nbuffG_df['Latitude'][5]=42.89;buffG_df['Longitude'][5]=-78.83\n# For COLD SPRING\nbuffG_df['Latitude'][8]=42.916;buffG_df['Longitude'][8]=-78.8575\n# For GENESEE MOSELLE\nbuffG_df['Latitude'][17]=42.91;buffG_df['Longitude'][17]= -78.82\n# For GRANT FERRY\nbuffG_df['Latitude'][18]=42.92;buffG_df['Longitude'][18]= -78.89\n# For PARK MEADOW\nbuffG_df['Latitude'][36]=42.94;buffG_df['Longitude'][36]=  -78.87"
        }, 
        {
            "execution_count": 26, 
            "cell_type": "code", 
            "metadata": {}, 
            "outputs": [
                {
                    "execution_count": 26, 
                    "metadata": {}, 
                    "data": {
                        "text/html": "<div>\n<style scoped>\n    .dataframe tbody tr th:only-of-type {\n        vertical-align: middle;\n    }\n\n    .dataframe tbody tr th {\n        vertical-align: top;\n    }\n\n    .dataframe thead th {\n        text-align: right;\n    }\n</style>\n<table border=\"1\" class=\"dataframe\">\n  <thead>\n    <tr style=\"text-align: right;\">\n      <th></th>\n      <th>NEIGHBORHOOD</th>\n      <th>CURBSIDE RECYCLING (IN POUNDS)</th>\n      <th>CURBSIDE GARBAGE (IN POUNDS)</th>\n      <th>CURBSIDE RECYCLING RATE</th>\n      <th>Latitude</th>\n      <th>Longitude</th>\n    </tr>\n  </thead>\n  <tbody>\n    <tr>\n      <th>0</th>\n      <td>ABBOTT McKINLEY</td>\n      <td>42.654167</td>\n      <td>215.357500</td>\n      <td>16.666667</td>\n      <td>42.847</td>\n      <td>-78.824</td>\n    </tr>\n    <tr>\n      <th>1</th>\n      <td>ALBRIGHT</td>\n      <td>23.645000</td>\n      <td>88.204167</td>\n      <td>21.500000</td>\n      <td>42.932</td>\n      <td>-78.8756</td>\n    </tr>\n    <tr>\n      <th>2</th>\n      <td>ALLEN</td>\n      <td>22.292500</td>\n      <td>95.519167</td>\n      <td>18.833333</td>\n      <td>42.8994</td>\n      <td>-78.8699</td>\n    </tr>\n    <tr>\n      <th>3</th>\n      <td>BABCOCK</td>\n      <td>19.578333</td>\n      <td>131.258333</td>\n      <td>13.000000</td>\n      <td>42.8736</td>\n      <td>-78.8321</td>\n    </tr>\n    <tr>\n      <th>4</th>\n      <td>BLACK ROCK</td>\n      <td>34.943333</td>\n      <td>215.675833</td>\n      <td>13.833333</td>\n      <td>42.9326</td>\n      <td>-78.9002</td>\n    </tr>\n    <tr>\n      <th>5</th>\n      <td>BROADWAY FILLMORE</td>\n      <td>26.028333</td>\n      <td>207.462500</td>\n      <td>11.250000</td>\n      <td>42.89</td>\n      <td>-78.83</td>\n    </tr>\n    <tr>\n      <th>6</th>\n      <td>BRYANT</td>\n      <td>28.580000</td>\n      <td>139.280833</td>\n      <td>17.083333</td>\n      <td>42.909</td>\n      <td>-78.8803</td>\n    </tr>\n    <tr>\n      <th>7</th>\n      <td>CAZENOVIA PARK</td>\n      <td>30.052500</td>\n      <td>153.407500</td>\n      <td>16.500000</td>\n      <td>42.8446</td>\n      <td>-78.8026</td>\n    </tr>\n    <tr>\n      <th>8</th>\n      <td>COLD SPRING</td>\n      <td>5.445000</td>\n      <td>37.299167</td>\n      <td>13.000000</td>\n      <td>42.916</td>\n      <td>-78.8575</td>\n    </tr>\n    <tr>\n      <th>9</th>\n      <td>COLUMBUS</td>\n      <td>5.911667</td>\n      <td>32.062500</td>\n      <td>15.750000</td>\n      <td>42.8477</td>\n      <td>-78.8215</td>\n    </tr>\n    <tr>\n      <th>10</th>\n      <td>DELAWARE PARK</td>\n      <td>3.995833</td>\n      <td>17.002500</td>\n      <td>19.250000</td>\n      <td>42.9348</td>\n      <td>-78.86</td>\n    </tr>\n    <tr>\n      <th>12</th>\n      <td>EMERSON</td>\n      <td>10.134167</td>\n      <td>94.118333</td>\n      <td>9.750000</td>\n      <td>42.9012</td>\n      <td>-78.8201</td>\n    </tr>\n    <tr>\n      <th>13</th>\n      <td>EMSLIE</td>\n      <td>10.201667</td>\n      <td>81.834167</td>\n      <td>11.166667</td>\n      <td>42.8816</td>\n      <td>-78.8487</td>\n    </tr>\n    <tr>\n      <th>14</th>\n      <td>FIRST WARD</td>\n      <td>11.061667</td>\n      <td>65.259167</td>\n      <td>14.833333</td>\n      <td>42.8669</td>\n      <td>-78.8636</td>\n    </tr>\n    <tr>\n      <th>15</th>\n      <td>FOREST</td>\n      <td>46.375833</td>\n      <td>223.890833</td>\n      <td>17.166667</td>\n      <td>42.8867</td>\n      <td>-78.8784</td>\n    </tr>\n    <tr>\n      <th>16</th>\n      <td>FRONT PARK</td>\n      <td>62.533333</td>\n      <td>373.529167</td>\n      <td>14.416667</td>\n      <td>42.9007</td>\n      <td>-78.8974</td>\n    </tr>\n    <tr>\n      <th>17</th>\n      <td>GENESEE MOSELLE</td>\n      <td>21.797500</td>\n      <td>158.609167</td>\n      <td>12.416667</td>\n      <td>42.91</td>\n      <td>-78.82</td>\n    </tr>\n    <tr>\n      <th>18</th>\n      <td>GRANT FERRY</td>\n      <td>42.720833</td>\n      <td>195.435000</td>\n      <td>18.083333</td>\n      <td>42.92</td>\n      <td>-78.89</td>\n    </tr>\n    <tr>\n      <th>19</th>\n      <td>GRIDER</td>\n      <td>27.213333</td>\n      <td>172.437500</td>\n      <td>13.583333</td>\n      <td>42.9259</td>\n      <td>-78.8292</td>\n    </tr>\n    <tr>\n      <th>20</th>\n      <td>HAMLIN PARK</td>\n      <td>21.532500</td>\n      <td>148.478333</td>\n      <td>12.666667</td>\n      <td>42.9177</td>\n      <td>-78.848</td>\n    </tr>\n    <tr>\n      <th>21</th>\n      <td>JOHNSON</td>\n      <td>4.553333</td>\n      <td>36.121667</td>\n      <td>11.250000</td>\n      <td>42.8926</td>\n      <td>-78.8788</td>\n    </tr>\n    <tr>\n      <th>22</th>\n      <td>KAISERTOWN</td>\n      <td>33.061667</td>\n      <td>178.735000</td>\n      <td>15.666667</td>\n      <td>42.8719</td>\n      <td>-78.8021</td>\n    </tr>\n    <tr>\n      <th>23</th>\n      <td>KENFIELD</td>\n      <td>19.057500</td>\n      <td>155.580833</td>\n      <td>10.916667</td>\n      <td>42.9316</td>\n      <td>-78.8029</td>\n    </tr>\n    <tr>\n      <th>24</th>\n      <td>KENSINGTON</td>\n      <td>41.187500</td>\n      <td>293.607500</td>\n      <td>12.416667</td>\n      <td>42.938</td>\n      <td>-78.8136</td>\n    </tr>\n    <tr>\n      <th>25</th>\n      <td>KINGSLEY</td>\n      <td>13.930000</td>\n      <td>96.085833</td>\n      <td>12.750000</td>\n      <td>42.8867</td>\n      <td>-78.8784</td>\n    </tr>\n    <tr>\n      <th>26</th>\n      <td>LAKEVIEW</td>\n      <td>14.881667</td>\n      <td>80.465000</td>\n      <td>15.666667</td>\n      <td>42.8996</td>\n      <td>-78.8955</td>\n    </tr>\n    <tr>\n      <th>27</th>\n      <td>LEROY</td>\n      <td>25.184167</td>\n      <td>159.787500</td>\n      <td>13.916667</td>\n      <td>42.933</td>\n      <td>-78.8429</td>\n    </tr>\n    <tr>\n      <th>28</th>\n      <td>LOVEJOY</td>\n      <td>36.294167</td>\n      <td>260.222500</td>\n      <td>12.416667</td>\n      <td>42.8898</td>\n      <td>-78.7996</td>\n    </tr>\n    <tr>\n      <th>29</th>\n      <td>LaSALLE</td>\n      <td>42.114167</td>\n      <td>278.091667</td>\n      <td>13.250000</td>\n      <td>42.9457</td>\n      <td>-78.8242</td>\n    </tr>\n    <tr>\n      <th>31</th>\n      <td>MASTEN PARK</td>\n      <td>18.413333</td>\n      <td>100.725833</td>\n      <td>15.583333</td>\n      <td>42.9048</td>\n      <td>-78.8584</td>\n    </tr>\n    <tr>\n      <th>32</th>\n      <td>MEDICAL PARK</td>\n      <td>12.385833</td>\n      <td>76.812500</td>\n      <td>13.916667</td>\n      <td>42.8994</td>\n      <td>-78.8699</td>\n    </tr>\n    <tr>\n      <th>33</th>\n      <td>MILITARY</td>\n      <td>20.420833</td>\n      <td>109.791667</td>\n      <td>15.750000</td>\n      <td>42.8763</td>\n      <td>-78.8785</td>\n    </tr>\n    <tr>\n      <th>34</th>\n      <td>NORTH DELAWARE</td>\n      <td>14.088333</td>\n      <td>72.134167</td>\n      <td>16.500000</td>\n      <td>42.944</td>\n      <td>-78.8681</td>\n    </tr>\n    <tr>\n      <th>35</th>\n      <td>NORTH PARK</td>\n      <td>90.240833</td>\n      <td>411.514167</td>\n      <td>18.416667</td>\n      <td>42.9477</td>\n      <td>-78.8558</td>\n    </tr>\n    <tr>\n      <th>36</th>\n      <td>PARK MEADOW</td>\n      <td>41.446667</td>\n      <td>166.070833</td>\n      <td>20.333333</td>\n      <td>42.94</td>\n      <td>-78.87</td>\n    </tr>\n    <tr>\n      <th>37</th>\n      <td>PARKSIDE</td>\n      <td>19.569167</td>\n      <td>81.775000</td>\n      <td>19.833333</td>\n      <td>42.9361</td>\n      <td>-78.8509</td>\n    </tr>\n    <tr>\n      <th>38</th>\n      <td>PERRY</td>\n      <td>0.799167</td>\n      <td>5.383333</td>\n      <td>12.833333</td>\n      <td>42.8723</td>\n      <td>-78.8561</td>\n    </tr>\n    <tr>\n      <th>39</th>\n      <td>RIVERSIDE PARK</td>\n      <td>52.218333</td>\n      <td>317.095833</td>\n      <td>14.166667</td>\n      <td>42.9558</td>\n      <td>-78.909</td>\n    </tr>\n    <tr>\n      <th>40</th>\n      <td>SCHILLER PARK</td>\n      <td>36.906667</td>\n      <td>268.939167</td>\n      <td>12.083333</td>\n      <td>42.9131</td>\n      <td>-78.8049</td>\n    </tr>\n    <tr>\n      <th>41</th>\n      <td>SENECA</td>\n      <td>17.224167</td>\n      <td>92.240833</td>\n      <td>15.750000</td>\n      <td>42.8556</td>\n      <td>-78.8011</td>\n    </tr>\n    <tr>\n      <th>42</th>\n      <td>SOUTH ABBOTT</td>\n      <td>26.105833</td>\n      <td>125.549167</td>\n      <td>17.416667</td>\n      <td>42.8533</td>\n      <td>-78.8192</td>\n    </tr>\n    <tr>\n      <th>43</th>\n      <td>SOUTH ELLICOTT</td>\n      <td>8.953333</td>\n      <td>56.644167</td>\n      <td>13.750000</td>\n      <td>42.8822</td>\n      <td>-78.8752</td>\n    </tr>\n    <tr>\n      <th>44</th>\n      <td>SOUTH PARK</td>\n      <td>45.330000</td>\n      <td>240.462500</td>\n      <td>15.916667</td>\n      <td>42.8306</td>\n      <td>-78.83</td>\n    </tr>\n    <tr>\n      <th>45</th>\n      <td>STARIN CENTRAL</td>\n      <td>42.293333</td>\n      <td>166.456667</td>\n      <td>20.750000</td>\n      <td>42.9439</td>\n      <td>-78.8441</td>\n    </tr>\n    <tr>\n      <th>46</th>\n      <td>STATE HOSPITAL</td>\n      <td>0.620833</td>\n      <td>3.461667</td>\n      <td>15.250000</td>\n      <td>42.9487</td>\n      <td>-78.8286</td>\n    </tr>\n    <tr>\n      <th>47</th>\n      <td>TIFFT</td>\n      <td>6.010000</td>\n      <td>37.110000</td>\n      <td>13.916667</td>\n      <td>42.8391</td>\n      <td>-78.8574</td>\n    </tr>\n    <tr>\n      <th>48</th>\n      <td>TRIANGLE</td>\n      <td>23.725833</td>\n      <td>145.890000</td>\n      <td>14.083333</td>\n      <td>42.8867</td>\n      <td>-78.8784</td>\n    </tr>\n    <tr>\n      <th>49</th>\n      <td>UNIVERSITY</td>\n      <td>21.804167</td>\n      <td>102.926667</td>\n      <td>17.916667</td>\n      <td>42.9336</td>\n      <td>-78.8839</td>\n    </tr>\n    <tr>\n      <th>50</th>\n      <td>VALLEY</td>\n      <td>2.980000</td>\n      <td>16.971667</td>\n      <td>14.916667</td>\n      <td>42.8867</td>\n      <td>-78.8784</td>\n    </tr>\n    <tr>\n      <th>51</th>\n      <td>WILLERT PARK</td>\n      <td>13.288333</td>\n      <td>91.776667</td>\n      <td>12.583333</td>\n      <td>42.8881</td>\n      <td>-78.856</td>\n    </tr>\n  </tbody>\n</table>\n</div>", 
                        "text/plain": "         NEIGHBORHOOD  CURBSIDE RECYCLING (IN POUNDS)  \\\n0     ABBOTT McKINLEY                       42.654167   \n1            ALBRIGHT                       23.645000   \n2               ALLEN                       22.292500   \n3             BABCOCK                       19.578333   \n4          BLACK ROCK                       34.943333   \n5   BROADWAY FILLMORE                       26.028333   \n6              BRYANT                       28.580000   \n7      CAZENOVIA PARK                       30.052500   \n8         COLD SPRING                        5.445000   \n9            COLUMBUS                        5.911667   \n10      DELAWARE PARK                        3.995833   \n12            EMERSON                       10.134167   \n13             EMSLIE                       10.201667   \n14         FIRST WARD                       11.061667   \n15             FOREST                       46.375833   \n16         FRONT PARK                       62.533333   \n17    GENESEE MOSELLE                       21.797500   \n18        GRANT FERRY                       42.720833   \n19             GRIDER                       27.213333   \n20        HAMLIN PARK                       21.532500   \n21            JOHNSON                        4.553333   \n22         KAISERTOWN                       33.061667   \n23           KENFIELD                       19.057500   \n24         KENSINGTON                       41.187500   \n25           KINGSLEY                       13.930000   \n26           LAKEVIEW                       14.881667   \n27              LEROY                       25.184167   \n28            LOVEJOY                       36.294167   \n29            LaSALLE                       42.114167   \n31        MASTEN PARK                       18.413333   \n32       MEDICAL PARK                       12.385833   \n33           MILITARY                       20.420833   \n34     NORTH DELAWARE                       14.088333   \n35         NORTH PARK                       90.240833   \n36        PARK MEADOW                       41.446667   \n37           PARKSIDE                       19.569167   \n38              PERRY                        0.799167   \n39     RIVERSIDE PARK                       52.218333   \n40      SCHILLER PARK                       36.906667   \n41             SENECA                       17.224167   \n42       SOUTH ABBOTT                       26.105833   \n43     SOUTH ELLICOTT                        8.953333   \n44         SOUTH PARK                       45.330000   \n45     STARIN CENTRAL                       42.293333   \n46     STATE HOSPITAL                        0.620833   \n47              TIFFT                        6.010000   \n48           TRIANGLE                       23.725833   \n49         UNIVERSITY                       21.804167   \n50             VALLEY                        2.980000   \n51       WILLERT PARK                       13.288333   \n\n    CURBSIDE GARBAGE (IN POUNDS)  CURBSIDE RECYCLING RATE Latitude Longitude  \n0                     215.357500                16.666667   42.847   -78.824  \n1                      88.204167                21.500000   42.932  -78.8756  \n2                      95.519167                18.833333  42.8994  -78.8699  \n3                     131.258333                13.000000  42.8736  -78.8321  \n4                     215.675833                13.833333  42.9326  -78.9002  \n5                     207.462500                11.250000    42.89    -78.83  \n6                     139.280833                17.083333   42.909  -78.8803  \n7                     153.407500                16.500000  42.8446  -78.8026  \n8                      37.299167                13.000000   42.916  -78.8575  \n9                      32.062500                15.750000  42.8477  -78.8215  \n10                     17.002500                19.250000  42.9348    -78.86  \n12                     94.118333                 9.750000  42.9012  -78.8201  \n13                     81.834167                11.166667  42.8816  -78.8487  \n14                     65.259167                14.833333  42.8669  -78.8636  \n15                    223.890833                17.166667  42.8867  -78.8784  \n16                    373.529167                14.416667  42.9007  -78.8974  \n17                    158.609167                12.416667    42.91    -78.82  \n18                    195.435000                18.083333    42.92    -78.89  \n19                    172.437500                13.583333  42.9259  -78.8292  \n20                    148.478333                12.666667  42.9177   -78.848  \n21                     36.121667                11.250000  42.8926  -78.8788  \n22                    178.735000                15.666667  42.8719  -78.8021  \n23                    155.580833                10.916667  42.9316  -78.8029  \n24                    293.607500                12.416667   42.938  -78.8136  \n25                     96.085833                12.750000  42.8867  -78.8784  \n26                     80.465000                15.666667  42.8996  -78.8955  \n27                    159.787500                13.916667   42.933  -78.8429  \n28                    260.222500                12.416667  42.8898  -78.7996  \n29                    278.091667                13.250000  42.9457  -78.8242  \n31                    100.725833                15.583333  42.9048  -78.8584  \n32                     76.812500                13.916667  42.8994  -78.8699  \n33                    109.791667                15.750000  42.8763  -78.8785  \n34                     72.134167                16.500000   42.944  -78.8681  \n35                    411.514167                18.416667  42.9477  -78.8558  \n36                    166.070833                20.333333    42.94    -78.87  \n37                     81.775000                19.833333  42.9361  -78.8509  \n38                      5.383333                12.833333  42.8723  -78.8561  \n39                    317.095833                14.166667  42.9558   -78.909  \n40                    268.939167                12.083333  42.9131  -78.8049  \n41                     92.240833                15.750000  42.8556  -78.8011  \n42                    125.549167                17.416667  42.8533  -78.8192  \n43                     56.644167                13.750000  42.8822  -78.8752  \n44                    240.462500                15.916667  42.8306    -78.83  \n45                    166.456667                20.750000  42.9439  -78.8441  \n46                      3.461667                15.250000  42.9487  -78.8286  \n47                     37.110000                13.916667  42.8391  -78.8574  \n48                    145.890000                14.083333  42.8867  -78.8784  \n49                    102.926667                17.916667  42.9336  -78.8839  \n50                     16.971667                14.916667  42.8867  -78.8784  \n51                     91.776667                12.583333  42.8881   -78.856  "
                    }, 
                    "output_type": "execute_result"
                }
            ], 
            "source": "#Deleting the columns\nbuffG_df.drop(index=11, inplace=True)\nbuffG_df.drop(index=30, inplace=True)"
        }, 
        {
            "execution_count": 27, 
            "cell_type": "code", 
            "metadata": {}, 
            "outputs": [], 
            "source": "buffG_df.reset_index(inplace=True)"
        }, 
        {
            "source": "### Foursquare API", 
            "cell_type": "markdown", 
            "metadata": {}
        }, 
        {
            "execution_count": 39, 
            "cell_type": "code", 
            "metadata": {}, 
            "outputs": [], 
            "source": "import requests"
        }, 
        {
            "source": "Now let's get the revenues near to the neighborhoods using the Foursquare API, for that the explore method is perfect because it can give us the information of the categories and the actual venues around the neighborhoods on Buffalo. So first there are some function we need to create:", 
            "cell_type": "markdown", 
            "metadata": {}
        }, 
        {
            "execution_count": 30, 
            "cell_type": "code", 
            "metadata": {}, 
            "outputs": [], 
            "source": "# The code was removed by Watson Studio for sharing."
        }, 
        {
            "source": "Let's create a function to get the category from a venue:", 
            "cell_type": "markdown", 
            "metadata": {}
        }, 
        {
            "execution_count": 31, 
            "cell_type": "code", 
            "metadata": {}, 
            "outputs": [], 
            "source": "def get_category_type(row):\n    try:\n        categories_list = row['categories']\n    except:\n        categories_list = row['venue.categories']\n        \n    if len(categories_list) == 0:\n        return None\n    else:\n        return categories_list[0]['name']"
        }, 
        {
            "source": "Now a function to get a desired number of venues within a desired radius around each neighborhood in Buffalo:", 
            "cell_type": "markdown", 
            "metadata": {}
        }, 
        {
            "execution_count": 32, 
            "cell_type": "code", 
            "metadata": {}, 
            "outputs": [], 
            "source": "def getNearbyVenues(names, latitudes, longitudes, radius=500):\n    \n    venues_list=[]\n    for name, lat, lng in zip(names, latitudes, longitudes):\n        print(name)\n            \n        # create the API request URL\n        url = 'https://api.foursquare.com/v2/venues/explore?&client_id={}&client_secret={}&v={}&ll={},{}&radius={}&limit={}'.format(\n            CLIENT_ID, \n            CLIENT_SECRET, \n            VERSION, \n            lat, \n            lng, \n            radius, \n            LIMIT)\n            \n        # make the GET request\n        results = requests.get(url).json()[\"response\"]['groups'][0]['items']\n        \n        # return only relevant information for each nearby venue\n        venues_list.append([(\n            name, \n            lat, \n            lng, \n            v['venue']['name'], \n            v['venue']['location']['lat'], \n            v['venue']['location']['lng'],  \n            v['venue']['categories'][0]['name']) for v in results])\n\n    nearby_venues = pd.DataFrame([item for venue_list in venues_list for item in venue_list])\n    nearby_venues.columns = ['Neighborhood', \n                  'Neighborhood Latitude', \n                  'Neighborhood Longitude', \n                  'Venue', \n                  'Venue Latitude', \n                  'Venue Longitude', \n                  'Venue Category']\n    \n    return(nearby_venues)"
        }, 
        {
            "source": "Now defining the parameters and call the venues function we are obtaining the dataframe with the venues and their categories. In this case a limit to up to 100 venues can be retreived in 500 meters range:", 
            "cell_type": "markdown", 
            "metadata": {}
        }, 
        {
            "execution_count": 40, 
            "cell_type": "code", 
            "metadata": {}, 
            "outputs": [
                {
                    "output_type": "stream", 
                    "name": "stdout", 
                    "text": "ABBOTT McKINLEY\nALBRIGHT\nALLEN\nBABCOCK\nBLACK ROCK\nBROADWAY FILLMORE\nBRYANT\nCAZENOVIA PARK\nCOLD SPRING\nCOLUMBUS\nDELAWARE PARK\nEMERSON\nEMSLIE\nFIRST WARD\nFOREST\nFRONT PARK\nGENESEE MOSELLE\nGRANT FERRY\nGRIDER\nHAMLIN PARK\nJOHNSON\nKAISERTOWN\nKENFIELD\nKENSINGTON\nKINGSLEY\nLAKEVIEW\nLEROY\nLOVEJOY\nLaSALLE\nMASTEN PARK\nMEDICAL PARK\nMILITARY\nNORTH DELAWARE\nNORTH PARK\nPARK MEADOW\nPARKSIDE\nPERRY\nRIVERSIDE PARK\nSCHILLER PARK\nSENECA\nSOUTH ABBOTT\nSOUTH ELLICOTT\nSOUTH PARK\nSTARIN CENTRAL\nSTATE HOSPITAL\nTIFFT\nTRIANGLE\nUNIVERSITY\nVALLEY\nWILLERT PARK\n"
                }
            ], 
            "source": "LIMIT=100\nradius = 500\nbuff_venues = getNearbyVenues(names=buffG_df['NEIGHBORHOOD'],\n                                   latitudes=buffG_df['Latitude'],\n                                   longitudes=buffG_df['Longitude']\n                                  )"
        }, 
        {
            "execution_count": 41, 
            "cell_type": "code", 
            "metadata": {}, 
            "outputs": [
                {
                    "execution_count": 41, 
                    "metadata": {}, 
                    "data": {
                        "text/html": "<div>\n<style scoped>\n    .dataframe tbody tr th:only-of-type {\n        vertical-align: middle;\n    }\n\n    .dataframe tbody tr th {\n        vertical-align: top;\n    }\n\n    .dataframe thead th {\n        text-align: right;\n    }\n</style>\n<table border=\"1\" class=\"dataframe\">\n  <thead>\n    <tr style=\"text-align: right;\">\n      <th></th>\n      <th>Neighborhood</th>\n      <th>Neighborhood Latitude</th>\n      <th>Neighborhood Longitude</th>\n      <th>Venue</th>\n      <th>Venue Latitude</th>\n      <th>Venue Longitude</th>\n      <th>Venue Category</th>\n    </tr>\n  </thead>\n  <tbody>\n    <tr>\n      <th>0</th>\n      <td>ABBOTT McKINLEY</td>\n      <td>42.847</td>\n      <td>-78.824</td>\n      <td>The Nine-Eleven Tavern</td>\n      <td>42.845277</td>\n      <td>-78.823668</td>\n      <td>Bar</td>\n    </tr>\n    <tr>\n      <th>1</th>\n      <td>ABBOTT McKINLEY</td>\n      <td>42.847</td>\n      <td>-78.824</td>\n      <td>7-Eleven</td>\n      <td>42.845152</td>\n      <td>-78.824053</td>\n      <td>Convenience Store</td>\n    </tr>\n    <tr>\n      <th>2</th>\n      <td>ABBOTT McKINLEY</td>\n      <td>42.847</td>\n      <td>-78.824</td>\n      <td>Family Dollar</td>\n      <td>42.846652</td>\n      <td>-78.823818</td>\n      <td>Discount Store</td>\n    </tr>\n    <tr>\n      <th>3</th>\n      <td>ABBOTT McKINLEY</td>\n      <td>42.847</td>\n      <td>-78.824</td>\n      <td>Mulroy Park</td>\n      <td>42.848282</td>\n      <td>-78.825299</td>\n      <td>Park</td>\n    </tr>\n    <tr>\n      <th>4</th>\n      <td>ABBOTT McKINLEY</td>\n      <td>42.847</td>\n      <td>-78.824</td>\n      <td>Molly's Pub</td>\n      <td>42.849712</td>\n      <td>-78.823871</td>\n      <td>Bar</td>\n    </tr>\n  </tbody>\n</table>\n</div>", 
                        "text/plain": "      Neighborhood  Neighborhood Latitude  Neighborhood Longitude  \\\n0  ABBOTT McKINLEY                 42.847                 -78.824   \n1  ABBOTT McKINLEY                 42.847                 -78.824   \n2  ABBOTT McKINLEY                 42.847                 -78.824   \n3  ABBOTT McKINLEY                 42.847                 -78.824   \n4  ABBOTT McKINLEY                 42.847                 -78.824   \n\n                    Venue  Venue Latitude  Venue Longitude     Venue Category  \n0  The Nine-Eleven Tavern       42.845277       -78.823668                Bar  \n1                7-Eleven       42.845152       -78.824053  Convenience Store  \n2           Family Dollar       42.846652       -78.823818     Discount Store  \n3             Mulroy Park       42.848282       -78.825299               Park  \n4             Molly's Pub       42.849712       -78.823871                Bar  "
                    }, 
                    "output_type": "execute_result"
                }
            ], 
            "source": "buff_venues.head()"
        }, 
        {
            "source": "Let's check the size of the data.", 
            "cell_type": "markdown", 
            "metadata": {}
        }, 
        {
            "execution_count": 45, 
            "cell_type": "code", 
            "metadata": {}, 
            "outputs": [
                {
                    "output_type": "stream", 
                    "name": "stdout", 
                    "text": "(712, 7)\n"
                }
            ], 
            "source": "print(buff_venues.shape)"
        }, 
        {
            "source": "### This is the final dataset that is going to be used in the analysis, to find the insights to the described problem in the Introduction/Business problem section which are in the following link <a href=\"https://github.com/DanSeb04/Data-Science/blob/master/BuffaloRecyclesProject/Business%20Problem.ipynb\">Buffalo Recycles Introduction</a>", 
            "cell_type": "markdown", 
            "metadata": {}
        }
    ], 
    "metadata": {
        "kernelspec": {
            "display_name": "Python 3.6", 
            "name": "python3", 
            "language": "python"
        }, 
        "language_info": {
            "mimetype": "text/x-python", 
            "nbconvert_exporter": "python", 
            "version": "3.6.8", 
            "name": "python", 
            "file_extension": ".py", 
            "pygments_lexer": "ipython3", 
            "codemirror_mode": {
                "version": 3, 
                "name": "ipython"
            }
        }
    }, 
    "nbformat": 4
}